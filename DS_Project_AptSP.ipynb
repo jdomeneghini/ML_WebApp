{
  "nbformat": 4,
  "nbformat_minor": 0,
  "metadata": {
    "colab": {
      "name": "DS_Project_AptSP.ipynb",
      "provenance": [],
      "collapsed_sections": []
    },
    "kernelspec": {
      "name": "python3",
      "display_name": "Python 3"
    }
  },
  "cells": [
    {
      "cell_type": "markdown",
      "metadata": {
        "id": "FHnm-v2e-crE"
      },
      "source": [
        "**ANÁLISE E PREVISÃO DE VALORES DE APARTAMENTOS EM SP**"
      ]
    },
    {
      "cell_type": "markdown",
      "metadata": {
        "id": "Z7iKi_pUW4XO"
      },
      "source": [
        "Este dataset contém entradas de um pouco mais de 13000 apartamentos à venda e para alugar na cidade de São Paulo e você poderá encontrá-lo no banco de dados do Kaggle, neste [link](https://www.kaggle.com/argonalyst/sao-paulo-real-estate-sale-rent-april-2019).\n",
        "\n",
        "\n",
        "O objetivo deste projeto será criar um modelo para prever valores de imóveis usando machine learning.\n",
        "\n",
        "Antes disso, irei fazer uma análise exploratória dos dados para observar como cada atributo pode influenciar no preço do imóvel. \n",
        "\n"
      ]
    },
    {
      "cell_type": "code",
      "metadata": {
        "id": "k4k3clt6-bs8"
      },
      "source": [
        "#IMPORTANDO AS BIBLIOTECAS NECESSÁRIAS\n",
        "import pandas as pd\n",
        "import matplotlib.pyplot as plt\n",
        "import seaborn as sns\n",
        "import numpy as np\n",
        "\n",
        "from sklearn.ensemble import RandomForestRegressor\n",
        "from sklearn.model_selection import train_test_split\n",
        "from sklearn.metrics import r2_score, mean_absolute_error, mean_squared_error\n",
        "\n",
        "sns.set(style='white', palette='crest') \n",
        "\n",
        "df = pd.read_csv(\"https://www.dropbox.com/s/h8blgaphkfpqsn5/sao-paulo-properties-april-2019.csv?dl=1\")\n",
        "\n",
        "import warnings\n",
        "warnings.filterwarnings('ignore')"
      ],
      "execution_count": null,
      "outputs": []
    },
    {
      "cell_type": "code",
      "metadata": {
        "id": "lB_hRZqO_ahZ",
        "colab": {
          "base_uri": "https://localhost:8080/"
        },
        "outputId": "cb3d3397-636b-4af0-bbb4-7f9373cd0649"
      },
      "source": [
        "#DIMENSÃO DO DATAFRAME\n",
        "print('DIMENSÃO DF:')\n",
        "print('LINHAS:', (df.shape[0]))\n",
        "print('COLUNAS:', (df.shape[1]))\n"
      ],
      "execution_count": null,
      "outputs": [
        {
          "output_type": "stream",
          "text": [
            "DIMENSÃO DF:\n",
            "LINHAS: 13640\n",
            "COLUNAS: 16\n"
          ],
          "name": "stdout"
        }
      ]
    },
    {
      "cell_type": "code",
      "metadata": {
        "id": "xRlYih-7_DrX",
        "colab": {
          "base_uri": "https://localhost:8080/",
          "height": 197
        },
        "outputId": "f01b3f17-2982-4331-e0e1-7049586c75e6"
      },
      "source": [
        "#VISUALIZANDO AS 5 PRIMEIRAS ENTRADAS\n",
        "df.head()"
      ],
      "execution_count": null,
      "outputs": [
        {
          "output_type": "execute_result",
          "data": {
            "text/html": [
              "<div>\n",
              "<style scoped>\n",
              "    .dataframe tbody tr th:only-of-type {\n",
              "        vertical-align: middle;\n",
              "    }\n",
              "\n",
              "    .dataframe tbody tr th {\n",
              "        vertical-align: top;\n",
              "    }\n",
              "\n",
              "    .dataframe thead th {\n",
              "        text-align: right;\n",
              "    }\n",
              "</style>\n",
              "<table border=\"1\" class=\"dataframe\">\n",
              "  <thead>\n",
              "    <tr style=\"text-align: right;\">\n",
              "      <th></th>\n",
              "      <th>Price</th>\n",
              "      <th>Condo</th>\n",
              "      <th>Size</th>\n",
              "      <th>Rooms</th>\n",
              "      <th>Toilets</th>\n",
              "      <th>Suites</th>\n",
              "      <th>Parking</th>\n",
              "      <th>Elevator</th>\n",
              "      <th>Furnished</th>\n",
              "      <th>Swimming Pool</th>\n",
              "      <th>New</th>\n",
              "      <th>District</th>\n",
              "      <th>Negotiation Type</th>\n",
              "      <th>Property Type</th>\n",
              "      <th>Latitude</th>\n",
              "      <th>Longitude</th>\n",
              "    </tr>\n",
              "  </thead>\n",
              "  <tbody>\n",
              "    <tr>\n",
              "      <th>0</th>\n",
              "      <td>930</td>\n",
              "      <td>220</td>\n",
              "      <td>47</td>\n",
              "      <td>2</td>\n",
              "      <td>2</td>\n",
              "      <td>1</td>\n",
              "      <td>1</td>\n",
              "      <td>0</td>\n",
              "      <td>0</td>\n",
              "      <td>0</td>\n",
              "      <td>0</td>\n",
              "      <td>Artur Alvim/São Paulo</td>\n",
              "      <td>rent</td>\n",
              "      <td>apartment</td>\n",
              "      <td>-23.543138</td>\n",
              "      <td>-46.479486</td>\n",
              "    </tr>\n",
              "    <tr>\n",
              "      <th>1</th>\n",
              "      <td>1000</td>\n",
              "      <td>148</td>\n",
              "      <td>45</td>\n",
              "      <td>2</td>\n",
              "      <td>2</td>\n",
              "      <td>1</td>\n",
              "      <td>1</td>\n",
              "      <td>0</td>\n",
              "      <td>0</td>\n",
              "      <td>0</td>\n",
              "      <td>0</td>\n",
              "      <td>Artur Alvim/São Paulo</td>\n",
              "      <td>rent</td>\n",
              "      <td>apartment</td>\n",
              "      <td>-23.550239</td>\n",
              "      <td>-46.480718</td>\n",
              "    </tr>\n",
              "    <tr>\n",
              "      <th>2</th>\n",
              "      <td>1000</td>\n",
              "      <td>100</td>\n",
              "      <td>48</td>\n",
              "      <td>2</td>\n",
              "      <td>2</td>\n",
              "      <td>1</td>\n",
              "      <td>1</td>\n",
              "      <td>0</td>\n",
              "      <td>0</td>\n",
              "      <td>0</td>\n",
              "      <td>0</td>\n",
              "      <td>Artur Alvim/São Paulo</td>\n",
              "      <td>rent</td>\n",
              "      <td>apartment</td>\n",
              "      <td>-23.542818</td>\n",
              "      <td>-46.485665</td>\n",
              "    </tr>\n",
              "    <tr>\n",
              "      <th>3</th>\n",
              "      <td>1000</td>\n",
              "      <td>200</td>\n",
              "      <td>48</td>\n",
              "      <td>2</td>\n",
              "      <td>2</td>\n",
              "      <td>1</td>\n",
              "      <td>1</td>\n",
              "      <td>0</td>\n",
              "      <td>0</td>\n",
              "      <td>0</td>\n",
              "      <td>0</td>\n",
              "      <td>Artur Alvim/São Paulo</td>\n",
              "      <td>rent</td>\n",
              "      <td>apartment</td>\n",
              "      <td>-23.547171</td>\n",
              "      <td>-46.483014</td>\n",
              "    </tr>\n",
              "    <tr>\n",
              "      <th>4</th>\n",
              "      <td>1300</td>\n",
              "      <td>410</td>\n",
              "      <td>55</td>\n",
              "      <td>2</td>\n",
              "      <td>2</td>\n",
              "      <td>1</td>\n",
              "      <td>1</td>\n",
              "      <td>1</td>\n",
              "      <td>0</td>\n",
              "      <td>0</td>\n",
              "      <td>0</td>\n",
              "      <td>Artur Alvim/São Paulo</td>\n",
              "      <td>rent</td>\n",
              "      <td>apartment</td>\n",
              "      <td>-23.525025</td>\n",
              "      <td>-46.482436</td>\n",
              "    </tr>\n",
              "  </tbody>\n",
              "</table>\n",
              "</div>"
            ],
            "text/plain": [
              "   Price  Condo  Size  ...  Property Type   Latitude  Longitude\n",
              "0    930    220    47  ...      apartment -23.543138 -46.479486\n",
              "1   1000    148    45  ...      apartment -23.550239 -46.480718\n",
              "2   1000    100    48  ...      apartment -23.542818 -46.485665\n",
              "3   1000    200    48  ...      apartment -23.547171 -46.483014\n",
              "4   1300    410    55  ...      apartment -23.525025 -46.482436\n",
              "\n",
              "[5 rows x 16 columns]"
            ]
          },
          "metadata": {
            "tags": []
          },
          "execution_count": 5
        }
      ]
    },
    {
      "cell_type": "code",
      "metadata": {
        "colab": {
          "base_uri": "https://localhost:8080/",
          "height": 204
        },
        "id": "CC9z6yE4NTEu",
        "outputId": "f76dcb03-b40f-4adb-bc4c-2d8938f4e508"
      },
      "source": [
        "#VISUALIZANDO AS 5 ULTIMAS ENTRADAS\r\n",
        "df.tail()"
      ],
      "execution_count": null,
      "outputs": [
        {
          "output_type": "execute_result",
          "data": {
            "text/html": [
              "<div>\n",
              "<style scoped>\n",
              "    .dataframe tbody tr th:only-of-type {\n",
              "        vertical-align: middle;\n",
              "    }\n",
              "\n",
              "    .dataframe tbody tr th {\n",
              "        vertical-align: top;\n",
              "    }\n",
              "\n",
              "    .dataframe thead th {\n",
              "        text-align: right;\n",
              "    }\n",
              "</style>\n",
              "<table border=\"1\" class=\"dataframe\">\n",
              "  <thead>\n",
              "    <tr style=\"text-align: right;\">\n",
              "      <th></th>\n",
              "      <th>Price</th>\n",
              "      <th>Condo</th>\n",
              "      <th>Size</th>\n",
              "      <th>Rooms</th>\n",
              "      <th>Toilets</th>\n",
              "      <th>Suites</th>\n",
              "      <th>Parking</th>\n",
              "      <th>Elevator</th>\n",
              "      <th>Furnished</th>\n",
              "      <th>Swimming Pool</th>\n",
              "      <th>New</th>\n",
              "      <th>District</th>\n",
              "      <th>Negotiation Type</th>\n",
              "      <th>Property Type</th>\n",
              "      <th>Latitude</th>\n",
              "      <th>Longitude</th>\n",
              "    </tr>\n",
              "  </thead>\n",
              "  <tbody>\n",
              "    <tr>\n",
              "      <th>13635</th>\n",
              "      <td>265000</td>\n",
              "      <td>420</td>\n",
              "      <td>51</td>\n",
              "      <td>2</td>\n",
              "      <td>1</td>\n",
              "      <td>0</td>\n",
              "      <td>1</td>\n",
              "      <td>0</td>\n",
              "      <td>0</td>\n",
              "      <td>0</td>\n",
              "      <td>0</td>\n",
              "      <td>Jabaquara/São Paulo</td>\n",
              "      <td>sale</td>\n",
              "      <td>apartment</td>\n",
              "      <td>-23.653004</td>\n",
              "      <td>-46.635463</td>\n",
              "    </tr>\n",
              "    <tr>\n",
              "      <th>13636</th>\n",
              "      <td>545000</td>\n",
              "      <td>630</td>\n",
              "      <td>74</td>\n",
              "      <td>3</td>\n",
              "      <td>2</td>\n",
              "      <td>1</td>\n",
              "      <td>2</td>\n",
              "      <td>0</td>\n",
              "      <td>0</td>\n",
              "      <td>1</td>\n",
              "      <td>0</td>\n",
              "      <td>Jabaquara/São Paulo</td>\n",
              "      <td>sale</td>\n",
              "      <td>apartment</td>\n",
              "      <td>-23.648930</td>\n",
              "      <td>-46.641982</td>\n",
              "    </tr>\n",
              "    <tr>\n",
              "      <th>13637</th>\n",
              "      <td>515000</td>\n",
              "      <td>1100</td>\n",
              "      <td>114</td>\n",
              "      <td>3</td>\n",
              "      <td>3</td>\n",
              "      <td>1</td>\n",
              "      <td>1</td>\n",
              "      <td>0</td>\n",
              "      <td>0</td>\n",
              "      <td>1</td>\n",
              "      <td>0</td>\n",
              "      <td>Jabaquara/São Paulo</td>\n",
              "      <td>sale</td>\n",
              "      <td>apartment</td>\n",
              "      <td>-23.649693</td>\n",
              "      <td>-46.649783</td>\n",
              "    </tr>\n",
              "    <tr>\n",
              "      <th>13638</th>\n",
              "      <td>345000</td>\n",
              "      <td>48</td>\n",
              "      <td>39</td>\n",
              "      <td>1</td>\n",
              "      <td>2</td>\n",
              "      <td>1</td>\n",
              "      <td>1</td>\n",
              "      <td>0</td>\n",
              "      <td>1</td>\n",
              "      <td>1</td>\n",
              "      <td>0</td>\n",
              "      <td>Jabaquara/São Paulo</td>\n",
              "      <td>sale</td>\n",
              "      <td>apartment</td>\n",
              "      <td>-23.652060</td>\n",
              "      <td>-46.637046</td>\n",
              "    </tr>\n",
              "    <tr>\n",
              "      <th>13639</th>\n",
              "      <td>161987</td>\n",
              "      <td>0</td>\n",
              "      <td>44</td>\n",
              "      <td>2</td>\n",
              "      <td>1</td>\n",
              "      <td>0</td>\n",
              "      <td>1</td>\n",
              "      <td>0</td>\n",
              "      <td>0</td>\n",
              "      <td>0</td>\n",
              "      <td>0</td>\n",
              "      <td>Jardim Ângela/São Paulo</td>\n",
              "      <td>sale</td>\n",
              "      <td>apartment</td>\n",
              "      <td>-23.613391</td>\n",
              "      <td>-46.523109</td>\n",
              "    </tr>\n",
              "  </tbody>\n",
              "</table>\n",
              "</div>"
            ],
            "text/plain": [
              "        Price  Condo  Size  ...  Property Type   Latitude  Longitude\n",
              "13635  265000    420    51  ...      apartment -23.653004 -46.635463\n",
              "13636  545000    630    74  ...      apartment -23.648930 -46.641982\n",
              "13637  515000   1100   114  ...      apartment -23.649693 -46.649783\n",
              "13638  345000     48    39  ...      apartment -23.652060 -46.637046\n",
              "13639  161987      0    44  ...      apartment -23.613391 -46.523109\n",
              "\n",
              "[5 rows x 16 columns]"
            ]
          },
          "metadata": {
            "tags": []
          },
          "execution_count": 2
        }
      ]
    },
    {
      "cell_type": "markdown",
      "metadata": {
        "id": "-i-mvlgjgNVg"
      },
      "source": [
        "*Informação sobre os atributos:*\n",
        "\n",
        "\n",
        "*   Price - Preço Imóvel\n",
        "*   Condo - Valor Condomínio\n",
        "*   Size - Tamanho Imóvel\n",
        "*   Rooms - Quantidades de Quartos\n",
        "*   Toilets - Quantidade de Banheiros\n",
        "*   Suites - Quantidades de Suites\n",
        "*   Elevator - Elevadores (Sim - 1/ Não - 0)\n",
        "*   Furnished - Imobiliado (Sim - 1/ Não - 0)\n",
        "*   Swimming Pool - Piscina (Sim - 1/ Não - 0)\n",
        "*   New - Imóvel Novo (Sim - 1/ Não - 0)\n",
        "*   District - Bairro\n",
        "*   Negotiation Type - Tipo de negociação\n",
        "    *   Rent - Aluguel\n",
        "    *   Sale - Venda\n",
        "*   Property Type - Tipo Propriedade (Ambos são apartamentos)\n",
        "*   Latitude\n",
        "*   Longitude\n",
        "\n",
        "\n",
        "\n",
        "\n",
        "\n",
        "\n",
        "\n",
        "\n",
        "\n",
        "\n",
        "\n",
        "\n",
        "\n"
      ]
    },
    {
      "cell_type": "code",
      "metadata": {
        "id": "A72VuYBz_7Fo",
        "colab": {
          "base_uri": "https://localhost:8080/",
          "height": 334
        },
        "outputId": "61c96e4c-2518-44bd-ce57-1ed29dc3fc99"
      },
      "source": [
        "#INFORMAÇÕES ESTATISTICAS\n",
        "df.describe()"
      ],
      "execution_count": null,
      "outputs": [
        {
          "output_type": "execute_result",
          "data": {
            "text/html": [
              "<div>\n",
              "<style scoped>\n",
              "    .dataframe tbody tr th:only-of-type {\n",
              "        vertical-align: middle;\n",
              "    }\n",
              "\n",
              "    .dataframe tbody tr th {\n",
              "        vertical-align: top;\n",
              "    }\n",
              "\n",
              "    .dataframe thead th {\n",
              "        text-align: right;\n",
              "    }\n",
              "</style>\n",
              "<table border=\"1\" class=\"dataframe\">\n",
              "  <thead>\n",
              "    <tr style=\"text-align: right;\">\n",
              "      <th></th>\n",
              "      <th>Price</th>\n",
              "      <th>Condo</th>\n",
              "      <th>Size</th>\n",
              "      <th>Rooms</th>\n",
              "      <th>Toilets</th>\n",
              "      <th>Suites</th>\n",
              "      <th>Parking</th>\n",
              "      <th>Elevator</th>\n",
              "      <th>Furnished</th>\n",
              "      <th>Swimming Pool</th>\n",
              "      <th>New</th>\n",
              "      <th>Latitude</th>\n",
              "      <th>Longitude</th>\n",
              "    </tr>\n",
              "  </thead>\n",
              "  <tbody>\n",
              "    <tr>\n",
              "      <th>count</th>\n",
              "      <td>1.364000e+04</td>\n",
              "      <td>13640.000000</td>\n",
              "      <td>13640.000000</td>\n",
              "      <td>13640.000000</td>\n",
              "      <td>13640.000000</td>\n",
              "      <td>13640.000000</td>\n",
              "      <td>13640.000000</td>\n",
              "      <td>13640.000000</td>\n",
              "      <td>13640.000000</td>\n",
              "      <td>13640.00000</td>\n",
              "      <td>13640.000000</td>\n",
              "      <td>13640.000000</td>\n",
              "      <td>13640.000000</td>\n",
              "    </tr>\n",
              "    <tr>\n",
              "      <th>mean</th>\n",
              "      <td>2.877378e+05</td>\n",
              "      <td>689.882331</td>\n",
              "      <td>84.373900</td>\n",
              "      <td>2.312023</td>\n",
              "      <td>2.073680</td>\n",
              "      <td>0.980792</td>\n",
              "      <td>1.393182</td>\n",
              "      <td>0.354179</td>\n",
              "      <td>0.146774</td>\n",
              "      <td>0.51217</td>\n",
              "      <td>0.015616</td>\n",
              "      <td>-22.077047</td>\n",
              "      <td>-43.597088</td>\n",
              "    </tr>\n",
              "    <tr>\n",
              "      <th>std</th>\n",
              "      <td>5.908214e+05</td>\n",
              "      <td>757.649363</td>\n",
              "      <td>58.435676</td>\n",
              "      <td>0.777461</td>\n",
              "      <td>0.961803</td>\n",
              "      <td>0.834891</td>\n",
              "      <td>0.829932</td>\n",
              "      <td>0.478281</td>\n",
              "      <td>0.353894</td>\n",
              "      <td>0.49987</td>\n",
              "      <td>0.123988</td>\n",
              "      <td>5.866633</td>\n",
              "      <td>11.487288</td>\n",
              "    </tr>\n",
              "    <tr>\n",
              "      <th>min</th>\n",
              "      <td>4.800000e+02</td>\n",
              "      <td>0.000000</td>\n",
              "      <td>30.000000</td>\n",
              "      <td>1.000000</td>\n",
              "      <td>1.000000</td>\n",
              "      <td>0.000000</td>\n",
              "      <td>0.000000</td>\n",
              "      <td>0.000000</td>\n",
              "      <td>0.000000</td>\n",
              "      <td>0.00000</td>\n",
              "      <td>0.000000</td>\n",
              "      <td>-46.749039</td>\n",
              "      <td>-58.364352</td>\n",
              "    </tr>\n",
              "    <tr>\n",
              "      <th>25%</th>\n",
              "      <td>1.858750e+03</td>\n",
              "      <td>290.000000</td>\n",
              "      <td>50.000000</td>\n",
              "      <td>2.000000</td>\n",
              "      <td>2.000000</td>\n",
              "      <td>1.000000</td>\n",
              "      <td>1.000000</td>\n",
              "      <td>0.000000</td>\n",
              "      <td>0.000000</td>\n",
              "      <td>0.00000</td>\n",
              "      <td>0.000000</td>\n",
              "      <td>-23.594552</td>\n",
              "      <td>-46.681671</td>\n",
              "    </tr>\n",
              "    <tr>\n",
              "      <th>50%</th>\n",
              "      <td>8.100000e+03</td>\n",
              "      <td>500.000000</td>\n",
              "      <td>65.000000</td>\n",
              "      <td>2.000000</td>\n",
              "      <td>2.000000</td>\n",
              "      <td>1.000000</td>\n",
              "      <td>1.000000</td>\n",
              "      <td>0.000000</td>\n",
              "      <td>0.000000</td>\n",
              "      <td>1.00000</td>\n",
              "      <td>0.000000</td>\n",
              "      <td>-23.552813</td>\n",
              "      <td>-46.637255</td>\n",
              "    </tr>\n",
              "    <tr>\n",
              "      <th>75%</th>\n",
              "      <td>3.600000e+05</td>\n",
              "      <td>835.000000</td>\n",
              "      <td>94.000000</td>\n",
              "      <td>3.000000</td>\n",
              "      <td>2.000000</td>\n",
              "      <td>1.000000</td>\n",
              "      <td>2.000000</td>\n",
              "      <td>1.000000</td>\n",
              "      <td>0.000000</td>\n",
              "      <td>1.00000</td>\n",
              "      <td>0.000000</td>\n",
              "      <td>-23.517640</td>\n",
              "      <td>-46.560040</td>\n",
              "    </tr>\n",
              "    <tr>\n",
              "      <th>max</th>\n",
              "      <td>1.000000e+07</td>\n",
              "      <td>9500.000000</td>\n",
              "      <td>880.000000</td>\n",
              "      <td>10.000000</td>\n",
              "      <td>8.000000</td>\n",
              "      <td>6.000000</td>\n",
              "      <td>9.000000</td>\n",
              "      <td>1.000000</td>\n",
              "      <td>1.000000</td>\n",
              "      <td>1.00000</td>\n",
              "      <td>1.000000</td>\n",
              "      <td>0.000000</td>\n",
              "      <td>0.000000</td>\n",
              "    </tr>\n",
              "  </tbody>\n",
              "</table>\n",
              "</div>"
            ],
            "text/plain": [
              "              Price         Condo  ...      Latitude     Longitude\n",
              "count  1.364000e+04  13640.000000  ...  13640.000000  13640.000000\n",
              "mean   2.877378e+05    689.882331  ...    -22.077047    -43.597088\n",
              "std    5.908214e+05    757.649363  ...      5.866633     11.487288\n",
              "min    4.800000e+02      0.000000  ...    -46.749039    -58.364352\n",
              "25%    1.858750e+03    290.000000  ...    -23.594552    -46.681671\n",
              "50%    8.100000e+03    500.000000  ...    -23.552813    -46.637255\n",
              "75%    3.600000e+05    835.000000  ...    -23.517640    -46.560040\n",
              "max    1.000000e+07   9500.000000  ...      0.000000      0.000000\n",
              "\n",
              "[8 rows x 13 columns]"
            ]
          },
          "metadata": {
            "tags": []
          },
          "execution_count": 67
        }
      ]
    },
    {
      "cell_type": "code",
      "metadata": {
        "id": "f4svDGgo_IBg",
        "colab": {
          "base_uri": "https://localhost:8080/"
        },
        "outputId": "4a3a0851-e6a0-4fc8-e099-5ca5b39ecacc"
      },
      "source": [
        "#TIPO DAS VARIAVEIS\n",
        "df.dtypes"
      ],
      "execution_count": null,
      "outputs": [
        {
          "output_type": "execute_result",
          "data": {
            "text/plain": [
              "Price                 int64\n",
              "Condo                 int64\n",
              "Size                  int64\n",
              "Rooms                 int64\n",
              "Toilets               int64\n",
              "Suites                int64\n",
              "Parking               int64\n",
              "Elevator              int64\n",
              "Furnished             int64\n",
              "Swimming Pool         int64\n",
              "New                   int64\n",
              "District             object\n",
              "Negotiation Type     object\n",
              "Property Type        object\n",
              "Latitude            float64\n",
              "Longitude           float64\n",
              "dtype: object"
            ]
          },
          "metadata": {
            "tags": []
          },
          "execution_count": 3
        }
      ]
    },
    {
      "cell_type": "code",
      "metadata": {
        "id": "TloXOjVlAO57",
        "colab": {
          "base_uri": "https://localhost:8080/"
        },
        "outputId": "40a44e11-9c0b-45b2-935e-50a182919e5e"
      },
      "source": [
        "#DADOS AUSENTES\n",
        "df.isnull().sum()"
      ],
      "execution_count": null,
      "outputs": [
        {
          "output_type": "execute_result",
          "data": {
            "text/plain": [
              "Price               0\n",
              "Condo               0\n",
              "Size                0\n",
              "Rooms               0\n",
              "Toilets             0\n",
              "Suites              0\n",
              "Parking             0\n",
              "Elevator            0\n",
              "Furnished           0\n",
              "Swimming Pool       0\n",
              "New                 0\n",
              "District            0\n",
              "Negotiation Type    0\n",
              "Property Type       0\n",
              "Latitude            0\n",
              "Longitude           0\n",
              "dtype: int64"
            ]
          },
          "metadata": {
            "tags": []
          },
          "execution_count": 13
        }
      ]
    },
    {
      "cell_type": "markdown",
      "metadata": {
        "id": "gKZ6iqZgf0ZJ"
      },
      "source": [
        "Nas entradas do atributo District podemos perceber que todos os bairros estão acompanhandos com o nome da cidade (/São Paulo). \n",
        "Como os imóveis se tratam somente de São Paulo, irei remover isso das entradas afim de facilitar na análise.\n"
      ]
    },
    {
      "cell_type": "code",
      "metadata": {
        "id": "So5He0CkG1qR"
      },
      "source": [
        "#ALTERANDO O ATRIBUTO DISTRICT\r\n",
        "df['District'] = [d.replace('/São Paulo', '') for d in df['District']]"
      ],
      "execution_count": null,
      "outputs": []
    },
    {
      "cell_type": "code",
      "metadata": {
        "id": "s55M_FcGH5U_",
        "colab": {
          "base_uri": "https://localhost:8080/",
          "height": 197
        },
        "outputId": "c398d879-6010-4fd6-a4ab-e80e382939a7"
      },
      "source": [
        "df.head()"
      ],
      "execution_count": null,
      "outputs": [
        {
          "output_type": "execute_result",
          "data": {
            "text/html": [
              "<div>\n",
              "<style scoped>\n",
              "    .dataframe tbody tr th:only-of-type {\n",
              "        vertical-align: middle;\n",
              "    }\n",
              "\n",
              "    .dataframe tbody tr th {\n",
              "        vertical-align: top;\n",
              "    }\n",
              "\n",
              "    .dataframe thead th {\n",
              "        text-align: right;\n",
              "    }\n",
              "</style>\n",
              "<table border=\"1\" class=\"dataframe\">\n",
              "  <thead>\n",
              "    <tr style=\"text-align: right;\">\n",
              "      <th></th>\n",
              "      <th>Price</th>\n",
              "      <th>Condo</th>\n",
              "      <th>Size</th>\n",
              "      <th>Rooms</th>\n",
              "      <th>Toilets</th>\n",
              "      <th>Suites</th>\n",
              "      <th>Parking</th>\n",
              "      <th>Elevator</th>\n",
              "      <th>Furnished</th>\n",
              "      <th>Swimming Pool</th>\n",
              "      <th>New</th>\n",
              "      <th>District</th>\n",
              "      <th>Negotiation Type</th>\n",
              "      <th>Property Type</th>\n",
              "      <th>Latitude</th>\n",
              "      <th>Longitude</th>\n",
              "    </tr>\n",
              "  </thead>\n",
              "  <tbody>\n",
              "    <tr>\n",
              "      <th>0</th>\n",
              "      <td>930</td>\n",
              "      <td>220</td>\n",
              "      <td>47</td>\n",
              "      <td>2</td>\n",
              "      <td>2</td>\n",
              "      <td>1</td>\n",
              "      <td>1</td>\n",
              "      <td>0</td>\n",
              "      <td>0</td>\n",
              "      <td>0</td>\n",
              "      <td>0</td>\n",
              "      <td>Artur Alvim</td>\n",
              "      <td>rent</td>\n",
              "      <td>apartment</td>\n",
              "      <td>-23.543138</td>\n",
              "      <td>-46.479486</td>\n",
              "    </tr>\n",
              "    <tr>\n",
              "      <th>1</th>\n",
              "      <td>1000</td>\n",
              "      <td>148</td>\n",
              "      <td>45</td>\n",
              "      <td>2</td>\n",
              "      <td>2</td>\n",
              "      <td>1</td>\n",
              "      <td>1</td>\n",
              "      <td>0</td>\n",
              "      <td>0</td>\n",
              "      <td>0</td>\n",
              "      <td>0</td>\n",
              "      <td>Artur Alvim</td>\n",
              "      <td>rent</td>\n",
              "      <td>apartment</td>\n",
              "      <td>-23.550239</td>\n",
              "      <td>-46.480718</td>\n",
              "    </tr>\n",
              "    <tr>\n",
              "      <th>2</th>\n",
              "      <td>1000</td>\n",
              "      <td>100</td>\n",
              "      <td>48</td>\n",
              "      <td>2</td>\n",
              "      <td>2</td>\n",
              "      <td>1</td>\n",
              "      <td>1</td>\n",
              "      <td>0</td>\n",
              "      <td>0</td>\n",
              "      <td>0</td>\n",
              "      <td>0</td>\n",
              "      <td>Artur Alvim</td>\n",
              "      <td>rent</td>\n",
              "      <td>apartment</td>\n",
              "      <td>-23.542818</td>\n",
              "      <td>-46.485665</td>\n",
              "    </tr>\n",
              "    <tr>\n",
              "      <th>3</th>\n",
              "      <td>1000</td>\n",
              "      <td>200</td>\n",
              "      <td>48</td>\n",
              "      <td>2</td>\n",
              "      <td>2</td>\n",
              "      <td>1</td>\n",
              "      <td>1</td>\n",
              "      <td>0</td>\n",
              "      <td>0</td>\n",
              "      <td>0</td>\n",
              "      <td>0</td>\n",
              "      <td>Artur Alvim</td>\n",
              "      <td>rent</td>\n",
              "      <td>apartment</td>\n",
              "      <td>-23.547171</td>\n",
              "      <td>-46.483014</td>\n",
              "    </tr>\n",
              "    <tr>\n",
              "      <th>4</th>\n",
              "      <td>1300</td>\n",
              "      <td>410</td>\n",
              "      <td>55</td>\n",
              "      <td>2</td>\n",
              "      <td>2</td>\n",
              "      <td>1</td>\n",
              "      <td>1</td>\n",
              "      <td>1</td>\n",
              "      <td>0</td>\n",
              "      <td>0</td>\n",
              "      <td>0</td>\n",
              "      <td>Artur Alvim</td>\n",
              "      <td>rent</td>\n",
              "      <td>apartment</td>\n",
              "      <td>-23.525025</td>\n",
              "      <td>-46.482436</td>\n",
              "    </tr>\n",
              "  </tbody>\n",
              "</table>\n",
              "</div>"
            ],
            "text/plain": [
              "   Price  Condo  Size  ...  Property Type   Latitude  Longitude\n",
              "0    930    220    47  ...      apartment -23.543138 -46.479486\n",
              "1   1000    148    45  ...      apartment -23.550239 -46.480718\n",
              "2   1000    100    48  ...      apartment -23.542818 -46.485665\n",
              "3   1000    200    48  ...      apartment -23.547171 -46.483014\n",
              "4   1300    410    55  ...      apartment -23.525025 -46.482436\n",
              "\n",
              "[5 rows x 16 columns]"
            ]
          },
          "metadata": {
            "tags": []
          },
          "execution_count": 12
        }
      ]
    },
    {
      "cell_type": "code",
      "metadata": {
        "id": "HIa9aUWg4hkM",
        "colab": {
          "base_uri": "https://localhost:8080/",
          "height": 167
        },
        "outputId": "30a64563-686b-45aa-901b-d99656bfc079"
      },
      "source": [
        "#INFORMAÇÕES ESTATISTICAS DAS VARIAVEIS CATEGORICAS\n",
        "cat_data = df.select_dtypes(exclude=[np.number])\n",
        "cat_data.describe()"
      ],
      "execution_count": null,
      "outputs": [
        {
          "output_type": "execute_result",
          "data": {
            "text/html": [
              "<div>\n",
              "<style scoped>\n",
              "    .dataframe tbody tr th:only-of-type {\n",
              "        vertical-align: middle;\n",
              "    }\n",
              "\n",
              "    .dataframe tbody tr th {\n",
              "        vertical-align: top;\n",
              "    }\n",
              "\n",
              "    .dataframe thead th {\n",
              "        text-align: right;\n",
              "    }\n",
              "</style>\n",
              "<table border=\"1\" class=\"dataframe\">\n",
              "  <thead>\n",
              "    <tr style=\"text-align: right;\">\n",
              "      <th></th>\n",
              "      <th>District</th>\n",
              "      <th>Negotiation Type</th>\n",
              "      <th>Property Type</th>\n",
              "    </tr>\n",
              "  </thead>\n",
              "  <tbody>\n",
              "    <tr>\n",
              "      <th>count</th>\n",
              "      <td>13640</td>\n",
              "      <td>13640</td>\n",
              "      <td>13640</td>\n",
              "    </tr>\n",
              "    <tr>\n",
              "      <th>unique</th>\n",
              "      <td>96</td>\n",
              "      <td>2</td>\n",
              "      <td>1</td>\n",
              "    </tr>\n",
              "    <tr>\n",
              "      <th>top</th>\n",
              "      <td>Moema</td>\n",
              "      <td>rent</td>\n",
              "      <td>apartment</td>\n",
              "    </tr>\n",
              "    <tr>\n",
              "      <th>freq</th>\n",
              "      <td>293</td>\n",
              "      <td>7228</td>\n",
              "      <td>13640</td>\n",
              "    </tr>\n",
              "  </tbody>\n",
              "</table>\n",
              "</div>"
            ],
            "text/plain": [
              "       District Negotiation Type Property Type\n",
              "count     13640            13640         13640\n",
              "unique       96                2             1\n",
              "top       Moema             rent     apartment\n",
              "freq        293             7228         13640"
            ]
          },
          "metadata": {
            "tags": []
          },
          "execution_count": 14
        }
      ]
    },
    {
      "cell_type": "markdown",
      "metadata": {
        "id": "9zM650lUHjz3"
      },
      "source": [
        "Visualizando informações adicionais sobre o dataset:\r\n"
      ]
    },
    {
      "cell_type": "code",
      "metadata": {
        "id": "GTr70AZaDQPw",
        "colab": {
          "base_uri": "https://localhost:8080/",
          "height": 372
        },
        "outputId": "9fc61d0a-f9bf-438b-8a52-14de19c0752f"
      },
      "source": [
        "#QUANTIDADE DE IMOVEIS PARA VENDER E ALUGAR\n",
        "\n",
        "sns.countplot(df['Negotiation Type'])\n",
        "plt.title('Imoveis para Vender e Alugar')\n",
        "plt.xlabel('Tipo')\n",
        "plt.ylabel('Qtd')\n",
        "plt.show()\n",
        "\n",
        "print('Valores detalhados:')\n",
        "print (df['Negotiation Type'].value_counts())"
      ],
      "execution_count": null,
      "outputs": [
        {
          "output_type": "display_data",
          "data": {
            "image/png": "[encoded data removed]",
            "text/plain": [
              "<Figure size 432x288 with 1 Axes>"
            ]
          },
          "metadata": {
            "tags": []
          }
        },
        {
          "output_type": "stream",
          "text": [
            "Valores detalhados:\n",
            "rent    7228\n",
            "sale    6412\n",
            "Name: Negotiation Type, dtype: int64\n"
          ],
          "name": "stdout"
        }
      ]
    },
    {
      "cell_type": "code",
      "metadata": {
        "id": "hDmoJTc5Fe5u",
        "colab": {
          "base_uri": "https://localhost:8080/",
          "height": 436
        },
        "outputId": "0abbd9bb-3e01-4b20-e1a3-c419d560524f"
      },
      "source": [
        "fig, axes= plt.subplots(2,2, figsize=(10,6))\n",
        "\n",
        "#QUANTIDADE DE QUARTOS POR IMOVEL\n",
        "sns.countplot(df['Rooms'], ax=axes[0,0], palette='crest')\n",
        "axes[0,0].set_title('Quartos')\n",
        "axes[0,0].set_xlabel('N° de quartos')\n",
        "axes[0,0].set_ylabel('Qtd')\n",
        "\n",
        "#QUANTIDADE DE SUITES POR IMOVEL\n",
        "sns.countplot(df['Suites'], ax=axes[0,1], palette='crest')\n",
        "axes[0,1].set_title('Suites')\n",
        "axes[0,1].set_xlabel('N° de suites')\n",
        "axes[0,1].set_ylabel('Qtd')\n",
        "\n",
        "\n",
        "#QUANTIDADE DE BANHEIROS POR IMOVEL\n",
        "sns.countplot(df['Toilets'], ax=axes[1,0], palette='crest')\n",
        "axes[1,0].set_title('Banheiros')\n",
        "axes[1,0].set_xlabel('N° de banheiros')\n",
        "axes[1,0].set_ylabel('Qtd')\n",
        "\n",
        "#QUANTIDADE DE VAGAS DE GARAGEM DISPONIVEIS POR IMOVEL\n",
        "sns.countplot(df['Parking'], ax=axes[1,1], palette='crest')\n",
        "axes[1,1].set_title('Garagem')\n",
        "axes[1,1].set_xlabel('N° de vagas')\n",
        "axes[1,1].set_ylabel('Qtd')\n",
        "plt.tight_layout()\n",
        "\n",
        "\n"
      ],
      "execution_count": null,
      "outputs": [
        {
          "output_type": "display_data",
          "data": {
            "image/png": "[encoded data removed]",
            "text/plain": [
              "<Figure size 720x432 with 4 Axes>"
            ]
          },
          "metadata": {
            "tags": []
          }
        }
      ]
    },
    {
      "cell_type": "code",
      "metadata": {
        "id": "785dFBKy-BNa",
        "colab": {
          "base_uri": "https://localhost:8080/"
        },
        "outputId": "66dc6b6b-89f5-495d-dad4-0a6ac8a9b3ba"
      },
      "source": [
        "#QUANTIDADE DE IMOVEIS POR BAIRRO\n",
        "df['District'].value_counts()"
      ],
      "execution_count": null,
      "outputs": [
        {
          "output_type": "execute_result",
          "data": {
            "text/plain": [
              "Moema              293\n",
              "Mooca              288\n",
              "Brás               255\n",
              "Bela Vista         250\n",
              "Brooklin           250\n",
              "                  ... \n",
              "Jardim São Luis     44\n",
              "São Rafael          44\n",
              "Grajaú              37\n",
              "São Domingos        35\n",
              "Perus               30\n",
              "Name: District, Length: 96, dtype: int64"
            ]
          },
          "metadata": {
            "tags": []
          },
          "execution_count": 5
        }
      ]
    },
    {
      "cell_type": "markdown",
      "metadata": {
        "id": "5oW_u8sDjm3s"
      },
      "source": [
        "Como podemos ver o dataset possui no total imóvel em 96 bairros, vamos visualizar abaixo os 20 bairros com mais imóveis:"
      ]
    },
    {
      "cell_type": "code",
      "metadata": {
        "id": "NivIRD-YtKhK",
        "colab": {
          "base_uri": "https://localhost:8080/",
          "height": 441
        },
        "outputId": "3a28446c-eca1-4318-df4e-f305a7d59d83"
      },
      "source": [
        "#OS 20 BAIRROS COM MAIS IMOVEIS\n",
        "\n",
        "fig, ax= plt.subplots(figsize=(10,6))\n",
        "df['District'].value_counts().head(20).sort_values(ascending=True).plot(kind='barh', color= 'cadetblue', ax=ax)\n",
        "ax.set_title('Qtd imoveis por Bairro')\n",
        "ax.set_xlabel('Bairro')\n",
        "ax.set_ylabel('Qtd')\n",
        "plt.tight_layout()"
      ],
      "execution_count": null,
      "outputs": [
        {
          "output_type": "display_data",
          "data": {
            "image/png": "[encoded data removed]",
            "text/plain": [
              "<Figure size 720x432 with 1 Axes>"
            ]
          },
          "metadata": {
            "tags": [],
            "needs_background": "light"
          }
        }
      ]
    },
    {
      "cell_type": "markdown",
      "metadata": {
        "id": "o6BNdr1wT45w"
      },
      "source": [
        "Para uma melhor análise, irei separar os imóveis para vendas dos imóveis para alugar:"
      ]
    },
    {
      "cell_type": "code",
      "metadata": {
        "id": "fkW0Zdd2snx5"
      },
      "source": [
        "#SEPARANDO OS DADOS PELO TIPO DE NEGOCIAÇÃO - rent ou sale\n",
        "\n",
        "df_rent = df[df['Negotiation Type'] == 'rent']\n",
        "df_sale = df[df['Negotiation Type'] == 'sale']"
      ],
      "execution_count": null,
      "outputs": []
    },
    {
      "cell_type": "markdown",
      "metadata": {
        "id": "1h_J5KH6VlWg"
      },
      "source": [
        "Abaixo irei plotar um mapa de calor para vermos a correlação entre as variáveis para os imóveis à venda."
      ]
    },
    {
      "cell_type": "code",
      "metadata": {
        "id": "etCbG0ESezvc",
        "colab": {
          "base_uri": "https://localhost:8080/",
          "height": 672
        },
        "outputId": "45df14ed-306e-48bb-b21a-f8be8e73b019"
      },
      "source": [
        "#CORRELATION PLOT\n",
        "plt.figure(figsize = (14,10))\n",
        "sns.heatmap(df_sale.corr(), annot= True,  cmap= 'crest');"
      ],
      "execution_count": null,
      "outputs": [
        {
          "output_type": "display_data",
          "data": {
            "image/png": "[encoded data removed]",
            "text/plain": [
              "<Figure size 1008x720 with 2 Axes>"
            ]
          },
          "metadata": {
            "tags": []
          }
        }
      ]
    },
    {
      "cell_type": "markdown",
      "metadata": {
        "id": "rywKUckdV4S7"
      },
      "source": [
        "Aqui podemos ver que alguns atributos possuem uma correlação positiva com o valor de venda. \r\n",
        "\r\n",
        "Vamos visualizar esta relação entre eles em gráficos:"
      ]
    },
    {
      "cell_type": "code",
      "metadata": {
        "id": "eAV_x5hS_50V",
        "colab": {
          "base_uri": "https://localhost:8080/",
          "height": 293
        },
        "outputId": "75ae94c4-2d00-4487-fddb-0286511455ad"
      },
      "source": [
        "fig,(ax1,ax2,ax3)= plt.subplots(ncols=3, nrows=1, figsize=(12,4))\n",
        "\n",
        "#RELAÇÃO ENTRE PRICE E SIZE\n",
        "sns.regplot(x='Price', y='Size', data=df_sale, ax=ax1)\n",
        "ax1.set_xlabel('Price')\n",
        "ax1.set_ylabel('Size')\n",
        "\n",
        "#RELAÇÃO ENTRE PRICE E CONDO\n",
        "sns.regplot(x='Price', y='Condo', data=df_sale, ax=ax2)\n",
        "ax2.set_xlabel('Price')\n",
        "ax2.set_ylabel('Condo')\n",
        "\n",
        "#RELAÇÃO ENTRE PRICE E PARKING\n",
        "sns.regplot(x='Condo', y='Size', data=df_sale, ax=ax3)\n",
        "ax3.set_xlabel('Condo')\n",
        "ax3.set_ylabel('Size')\n",
        "\n",
        "\n",
        "plt.tight_layout();\n"
      ],
      "execution_count": null,
      "outputs": [
        {
          "output_type": "display_data",
          "data": {
            "image/png": "[encoded data removed]",
            "text/plain": [
              "<Figure size 864x288 with 3 Axes>"
            ]
          },
          "metadata": {
            "tags": []
          }
        }
      ]
    },
    {
      "cell_type": "code",
      "metadata": {
        "id": "XOTftKRbOq_c",
        "colab": {
          "base_uri": "https://localhost:8080/",
          "height": 535
        },
        "outputId": "9c96b368-3c25-424a-f882-9084ef6f74ed"
      },
      "source": [
        "#Media de Preço por Distrito\n",
        "#.sort_values(ascending=False)\n",
        "grupo = df.groupby('District')['Price'].mean().reset_index().sort_values(by= 'Price', ascending=False)[:20]\n",
        "\n",
        "plt.figure(figsize = (10,8))\n",
        "ax = sns.barplot(x='Price', y='District', data= grupo, palette='crest')\n",
        "                \n",
        "ax.set_title('Preço Médio Por Bairro')\n",
        "ax.set_xlabel('Preço')\n",
        "ax.set_ylabel('Bairro')\n"
      ],
      "execution_count": null,
      "outputs": [
        {
          "output_type": "execute_result",
          "data": {
            "text/plain": [
              "Text(0, 0.5, 'Bairro')"
            ]
          },
          "metadata": {
            "tags": []
          },
          "execution_count": 31
        },
        {
          "output_type": "display_data",
          "data": {
            "image/png": "[encoded data removed]",
            "text/plain": [
              "<Figure size 720x576 with 1 Axes>"
            ]
          },
          "metadata": {
            "tags": []
          }
        }
      ]
    },
    {
      "cell_type": "markdown",
      "metadata": {
        "id": "3imhvyCyQNRS"
      },
      "source": [
        "Preparando o conjunto de dados para criação do modelo de machine learning.\r\n",
        "Aqui irei considerar novamente o conjunto de dados contendo dados de aluguéis e vendas. \r\n",
        "\r\n",
        "Irei excluir algumas colunas que não julgo necessárias para este modelo, e também irei alterar nome de duas variaveis somente por questão de código.\r\n"
      ]
    },
    {
      "cell_type": "code",
      "metadata": {
        "id": "2WpvKogq16_j"
      },
      "source": [
        "#LIMPEZA E PREPARAÇAO DOS DADOS\n",
        "\n",
        "#excluindo colunas Latitude, Longitude e Property Type\n",
        "df_clean = df.copy()\n",
        "\n",
        "df_clean.drop(['Latitude', 'Longitude', 'Property Type', 'Condo'], axis=1, inplace= True)   \n",
        "\n",
        "#alterando nome de colunas Swimming Pool para Pool e Negotiation Type para Type\n",
        "df_clean = df_clean.rename(columns={'Swimming Pool': 'Pool', 'Negotiation Type': 'Type'})\n"
      ],
      "execution_count": null,
      "outputs": []
    },
    {
      "cell_type": "code",
      "metadata": {
        "colab": {
          "base_uri": "https://localhost:8080/",
          "height": 197
        },
        "id": "sBv4BrMXQj9F",
        "outputId": "12f21d94-2035-47c5-a9b7-6ebcaefa1a8b"
      },
      "source": [
        "df_clean.head()"
      ],
      "execution_count": null,
      "outputs": [
        {
          "output_type": "execute_result",
          "data": {
            "text/html": [
              "<div>\n",
              "<style scoped>\n",
              "    .dataframe tbody tr th:only-of-type {\n",
              "        vertical-align: middle;\n",
              "    }\n",
              "\n",
              "    .dataframe tbody tr th {\n",
              "        vertical-align: top;\n",
              "    }\n",
              "\n",
              "    .dataframe thead th {\n",
              "        text-align: right;\n",
              "    }\n",
              "</style>\n",
              "<table border=\"1\" class=\"dataframe\">\n",
              "  <thead>\n",
              "    <tr style=\"text-align: right;\">\n",
              "      <th></th>\n",
              "      <th>Price</th>\n",
              "      <th>Size</th>\n",
              "      <th>Rooms</th>\n",
              "      <th>Toilets</th>\n",
              "      <th>Suites</th>\n",
              "      <th>Parking</th>\n",
              "      <th>Elevator</th>\n",
              "      <th>Furnished</th>\n",
              "      <th>Pool</th>\n",
              "      <th>New</th>\n",
              "      <th>District</th>\n",
              "      <th>Type</th>\n",
              "    </tr>\n",
              "  </thead>\n",
              "  <tbody>\n",
              "    <tr>\n",
              "      <th>0</th>\n",
              "      <td>930</td>\n",
              "      <td>47</td>\n",
              "      <td>2</td>\n",
              "      <td>2</td>\n",
              "      <td>1</td>\n",
              "      <td>1</td>\n",
              "      <td>0</td>\n",
              "      <td>0</td>\n",
              "      <td>0</td>\n",
              "      <td>0</td>\n",
              "      <td>Artur Alvim</td>\n",
              "      <td>rent</td>\n",
              "    </tr>\n",
              "    <tr>\n",
              "      <th>1</th>\n",
              "      <td>1000</td>\n",
              "      <td>45</td>\n",
              "      <td>2</td>\n",
              "      <td>2</td>\n",
              "      <td>1</td>\n",
              "      <td>1</td>\n",
              "      <td>0</td>\n",
              "      <td>0</td>\n",
              "      <td>0</td>\n",
              "      <td>0</td>\n",
              "      <td>Artur Alvim</td>\n",
              "      <td>rent</td>\n",
              "    </tr>\n",
              "    <tr>\n",
              "      <th>2</th>\n",
              "      <td>1000</td>\n",
              "      <td>48</td>\n",
              "      <td>2</td>\n",
              "      <td>2</td>\n",
              "      <td>1</td>\n",
              "      <td>1</td>\n",
              "      <td>0</td>\n",
              "      <td>0</td>\n",
              "      <td>0</td>\n",
              "      <td>0</td>\n",
              "      <td>Artur Alvim</td>\n",
              "      <td>rent</td>\n",
              "    </tr>\n",
              "    <tr>\n",
              "      <th>3</th>\n",
              "      <td>1000</td>\n",
              "      <td>48</td>\n",
              "      <td>2</td>\n",
              "      <td>2</td>\n",
              "      <td>1</td>\n",
              "      <td>1</td>\n",
              "      <td>0</td>\n",
              "      <td>0</td>\n",
              "      <td>0</td>\n",
              "      <td>0</td>\n",
              "      <td>Artur Alvim</td>\n",
              "      <td>rent</td>\n",
              "    </tr>\n",
              "    <tr>\n",
              "      <th>4</th>\n",
              "      <td>1300</td>\n",
              "      <td>55</td>\n",
              "      <td>2</td>\n",
              "      <td>2</td>\n",
              "      <td>1</td>\n",
              "      <td>1</td>\n",
              "      <td>1</td>\n",
              "      <td>0</td>\n",
              "      <td>0</td>\n",
              "      <td>0</td>\n",
              "      <td>Artur Alvim</td>\n",
              "      <td>rent</td>\n",
              "    </tr>\n",
              "  </tbody>\n",
              "</table>\n",
              "</div>"
            ],
            "text/plain": [
              "   Price  Size  Rooms  Toilets  Suites  ...  Furnished  Pool  New     District  Type\n",
              "0    930    47      2        2       1  ...          0     0    0  Artur Alvim  rent\n",
              "1   1000    45      2        2       1  ...          0     0    0  Artur Alvim  rent\n",
              "2   1000    48      2        2       1  ...          0     0    0  Artur Alvim  rent\n",
              "3   1000    48      2        2       1  ...          0     0    0  Artur Alvim  rent\n",
              "4   1300    55      2        2       1  ...          0     0    0  Artur Alvim  rent\n",
              "\n",
              "[5 rows x 12 columns]"
            ]
          },
          "metadata": {
            "tags": []
          },
          "execution_count": 19
        }
      ]
    },
    {
      "cell_type": "markdown",
      "metadata": {
        "id": "ck11RTHvI4Xd"
      },
      "source": [
        "Abaixo irei transformar as variáveis catégoricas em numéricas, pois alguns algoritmos de machine learning não aceitam esse tipo de variável."
      ]
    },
    {
      "cell_type": "code",
      "metadata": {
        "id": "m8QJkJaQBW6n"
      },
      "source": [
        "#TRANSFORMANDO AS VARIAVEIS DISTRICT E TYPE EM VARIAVEL NUMERICAS\r\n",
        "from sklearn import preprocessing\r\n",
        "\r\n",
        "le = preprocessing.LabelEncoder()\r\n",
        "df_clean['District']= le.fit_transform(df_clean['District'])\r\n",
        "\r\n",
        "df_clean['Type']=le.fit_transform(df_clean['Type'])\r\n"
      ],
      "execution_count": null,
      "outputs": []
    },
    {
      "cell_type": "code",
      "metadata": {
        "colab": {
          "base_uri": "https://localhost:8080/",
          "height": 197
        },
        "id": "tqk8ctQWBhQG",
        "outputId": "5b208991-8bfe-4578-e52f-c2298e24b352"
      },
      "source": [
        "df_clean.head()"
      ],
      "execution_count": null,
      "outputs": [
        {
          "output_type": "execute_result",
          "data": {
            "text/html": [
              "<div>\n",
              "<style scoped>\n",
              "    .dataframe tbody tr th:only-of-type {\n",
              "        vertical-align: middle;\n",
              "    }\n",
              "\n",
              "    .dataframe tbody tr th {\n",
              "        vertical-align: top;\n",
              "    }\n",
              "\n",
              "    .dataframe thead th {\n",
              "        text-align: right;\n",
              "    }\n",
              "</style>\n",
              "<table border=\"1\" class=\"dataframe\">\n",
              "  <thead>\n",
              "    <tr style=\"text-align: right;\">\n",
              "      <th></th>\n",
              "      <th>Price</th>\n",
              "      <th>Size</th>\n",
              "      <th>Rooms</th>\n",
              "      <th>Toilets</th>\n",
              "      <th>Suites</th>\n",
              "      <th>Parking</th>\n",
              "      <th>Elevator</th>\n",
              "      <th>Furnished</th>\n",
              "      <th>Pool</th>\n",
              "      <th>New</th>\n",
              "      <th>District</th>\n",
              "      <th>Type</th>\n",
              "    </tr>\n",
              "  </thead>\n",
              "  <tbody>\n",
              "    <tr>\n",
              "      <th>0</th>\n",
              "      <td>930</td>\n",
              "      <td>47</td>\n",
              "      <td>2</td>\n",
              "      <td>2</td>\n",
              "      <td>1</td>\n",
              "      <td>1</td>\n",
              "      <td>0</td>\n",
              "      <td>0</td>\n",
              "      <td>0</td>\n",
              "      <td>0</td>\n",
              "      <td>3</td>\n",
              "      <td>0</td>\n",
              "    </tr>\n",
              "    <tr>\n",
              "      <th>1</th>\n",
              "      <td>1000</td>\n",
              "      <td>45</td>\n",
              "      <td>2</td>\n",
              "      <td>2</td>\n",
              "      <td>1</td>\n",
              "      <td>1</td>\n",
              "      <td>0</td>\n",
              "      <td>0</td>\n",
              "      <td>0</td>\n",
              "      <td>0</td>\n",
              "      <td>3</td>\n",
              "      <td>0</td>\n",
              "    </tr>\n",
              "    <tr>\n",
              "      <th>2</th>\n",
              "      <td>1000</td>\n",
              "      <td>48</td>\n",
              "      <td>2</td>\n",
              "      <td>2</td>\n",
              "      <td>1</td>\n",
              "      <td>1</td>\n",
              "      <td>0</td>\n",
              "      <td>0</td>\n",
              "      <td>0</td>\n",
              "      <td>0</td>\n",
              "      <td>3</td>\n",
              "      <td>0</td>\n",
              "    </tr>\n",
              "    <tr>\n",
              "      <th>3</th>\n",
              "      <td>1000</td>\n",
              "      <td>48</td>\n",
              "      <td>2</td>\n",
              "      <td>2</td>\n",
              "      <td>1</td>\n",
              "      <td>1</td>\n",
              "      <td>0</td>\n",
              "      <td>0</td>\n",
              "      <td>0</td>\n",
              "      <td>0</td>\n",
              "      <td>3</td>\n",
              "      <td>0</td>\n",
              "    </tr>\n",
              "    <tr>\n",
              "      <th>4</th>\n",
              "      <td>1300</td>\n",
              "      <td>55</td>\n",
              "      <td>2</td>\n",
              "      <td>2</td>\n",
              "      <td>1</td>\n",
              "      <td>1</td>\n",
              "      <td>1</td>\n",
              "      <td>0</td>\n",
              "      <td>0</td>\n",
              "      <td>0</td>\n",
              "      <td>3</td>\n",
              "      <td>0</td>\n",
              "    </tr>\n",
              "  </tbody>\n",
              "</table>\n",
              "</div>"
            ],
            "text/plain": [
              "   Price  Size  Rooms  Toilets  Suites  ...  Furnished  Pool  New  District  Type\n",
              "0    930    47      2        2       1  ...          0     0    0         3     0\n",
              "1   1000    45      2        2       1  ...          0     0    0         3     0\n",
              "2   1000    48      2        2       1  ...          0     0    0         3     0\n",
              "3   1000    48      2        2       1  ...          0     0    0         3     0\n",
              "4   1300    55      2        2       1  ...          0     0    0         3     0\n",
              "\n",
              "[5 rows x 12 columns]"
            ]
          },
          "metadata": {
            "tags": []
          },
          "execution_count": 22
        }
      ]
    },
    {
      "cell_type": "code",
      "metadata": {
        "colab": {
          "base_uri": "https://localhost:8080/",
          "height": 197
        },
        "id": "wnUmAd8vKBqP",
        "outputId": "6e130f8f-3654-48d2-bd4e-b7f40f90de4b"
      },
      "source": [
        "df_clean.tail()"
      ],
      "execution_count": null,
      "outputs": [
        {
          "output_type": "execute_result",
          "data": {
            "text/html": [
              "<div>\n",
              "<style scoped>\n",
              "    .dataframe tbody tr th:only-of-type {\n",
              "        vertical-align: middle;\n",
              "    }\n",
              "\n",
              "    .dataframe tbody tr th {\n",
              "        vertical-align: top;\n",
              "    }\n",
              "\n",
              "    .dataframe thead th {\n",
              "        text-align: right;\n",
              "    }\n",
              "</style>\n",
              "<table border=\"1\" class=\"dataframe\">\n",
              "  <thead>\n",
              "    <tr style=\"text-align: right;\">\n",
              "      <th></th>\n",
              "      <th>Price</th>\n",
              "      <th>Size</th>\n",
              "      <th>Rooms</th>\n",
              "      <th>Toilets</th>\n",
              "      <th>Suites</th>\n",
              "      <th>Parking</th>\n",
              "      <th>Elevator</th>\n",
              "      <th>Furnished</th>\n",
              "      <th>Pool</th>\n",
              "      <th>New</th>\n",
              "      <th>District</th>\n",
              "      <th>Type</th>\n",
              "    </tr>\n",
              "  </thead>\n",
              "  <tbody>\n",
              "    <tr>\n",
              "      <th>13635</th>\n",
              "      <td>265000</td>\n",
              "      <td>51</td>\n",
              "      <td>2</td>\n",
              "      <td>1</td>\n",
              "      <td>0</td>\n",
              "      <td>1</td>\n",
              "      <td>0</td>\n",
              "      <td>0</td>\n",
              "      <td>0</td>\n",
              "      <td>0</td>\n",
              "      <td>36</td>\n",
              "      <td>1</td>\n",
              "    </tr>\n",
              "    <tr>\n",
              "      <th>13636</th>\n",
              "      <td>545000</td>\n",
              "      <td>74</td>\n",
              "      <td>3</td>\n",
              "      <td>2</td>\n",
              "      <td>1</td>\n",
              "      <td>2</td>\n",
              "      <td>0</td>\n",
              "      <td>0</td>\n",
              "      <td>1</td>\n",
              "      <td>0</td>\n",
              "      <td>36</td>\n",
              "      <td>1</td>\n",
              "    </tr>\n",
              "    <tr>\n",
              "      <th>13637</th>\n",
              "      <td>515000</td>\n",
              "      <td>114</td>\n",
              "      <td>3</td>\n",
              "      <td>3</td>\n",
              "      <td>1</td>\n",
              "      <td>1</td>\n",
              "      <td>0</td>\n",
              "      <td>0</td>\n",
              "      <td>1</td>\n",
              "      <td>0</td>\n",
              "      <td>36</td>\n",
              "      <td>1</td>\n",
              "    </tr>\n",
              "    <tr>\n",
              "      <th>13638</th>\n",
              "      <td>345000</td>\n",
              "      <td>39</td>\n",
              "      <td>1</td>\n",
              "      <td>2</td>\n",
              "      <td>1</td>\n",
              "      <td>1</td>\n",
              "      <td>0</td>\n",
              "      <td>1</td>\n",
              "      <td>1</td>\n",
              "      <td>0</td>\n",
              "      <td>36</td>\n",
              "      <td>1</td>\n",
              "    </tr>\n",
              "    <tr>\n",
              "      <th>13639</th>\n",
              "      <td>161987</td>\n",
              "      <td>44</td>\n",
              "      <td>2</td>\n",
              "      <td>1</td>\n",
              "      <td>0</td>\n",
              "      <td>1</td>\n",
              "      <td>0</td>\n",
              "      <td>0</td>\n",
              "      <td>0</td>\n",
              "      <td>0</td>\n",
              "      <td>42</td>\n",
              "      <td>1</td>\n",
              "    </tr>\n",
              "  </tbody>\n",
              "</table>\n",
              "</div>"
            ],
            "text/plain": [
              "        Price  Size  Rooms  Toilets  ...  Pool  New  District  Type\n",
              "13635  265000    51      2        1  ...     0    0        36     1\n",
              "13636  545000    74      3        2  ...     1    0        36     1\n",
              "13637  515000   114      3        3  ...     1    0        36     1\n",
              "13638  345000    39      1        2  ...     1    0        36     1\n",
              "13639  161987    44      2        1  ...     0    0        42     1\n",
              "\n",
              "[5 rows x 12 columns]"
            ]
          },
          "metadata": {
            "tags": []
          },
          "execution_count": 24
        }
      ]
    },
    {
      "cell_type": "code",
      "metadata": {
        "id": "wkFR9hx_WOOL",
        "colab": {
          "base_uri": "https://localhost:8080/"
        },
        "outputId": "39bc509e-f090-4dc9-b83d-c13dd142b1bd"
      },
      "source": [
        "df_clean.dtypes"
      ],
      "execution_count": null,
      "outputs": [
        {
          "output_type": "execute_result",
          "data": {
            "text/plain": [
              "Price        int64\n",
              "Size         int64\n",
              "Rooms        int64\n",
              "Toilets      int64\n",
              "Suites       int64\n",
              "Parking      int64\n",
              "Elevator     int64\n",
              "Furnished    int64\n",
              "Pool         int64\n",
              "New          int64\n",
              "District     int64\n",
              "Type         int64\n",
              "dtype: object"
            ]
          },
          "metadata": {
            "tags": []
          },
          "execution_count": 25
        }
      ]
    },
    {
      "cell_type": "markdown",
      "metadata": {
        "id": "6lTsFnB_KQ-B"
      },
      "source": [
        "**CRIAÇÃO DO MODELO** - USANDO O ALGORITMO RANDOM FOREST REGRESSOR"
      ]
    },
    {
      "cell_type": "code",
      "metadata": {
        "id": "w5tyxf5_CTyF"
      },
      "source": [
        "#CRIANDO O MODELO\n",
        "\n",
        "#SEPARANDO AS VARIAVEIS EM x E y \n",
        "x= df_clean.drop('Price', axis=1)\n",
        "y= df_clean['Price']\n",
        "\n",
        "\n",
        "#DIVIDINDO OS DADOS EM TREINO E TESTE\n",
        "x_train, x_test, y_train, y_test = train_test_split(x, y, test_size= 0.2)\n",
        "\n",
        "#INSTANCIANDO O MODELO\n",
        "model= RandomForestRegressor(n_estimators=20)\n",
        "model.fit(x_train, y_train)\n",
        "y_pred = model.predict(x_test)\n",
        "\n"
      ],
      "execution_count": null,
      "outputs": []
    },
    {
      "cell_type": "code",
      "metadata": {
        "id": "L4GW-e0IEkP5",
        "colab": {
          "base_uri": "https://localhost:8080/"
        },
        "outputId": "7ccf7792-50c5-4b16-e55a-68fc13e3709e"
      },
      "source": [
        "#METRICAS\n",
        "print(r2_score(y_test, y_pred))\n",
        "print(mean_absolute_error(y_test, y_pred))\n",
        "print(mean_squared_error(y_test, y_pred))"
      ],
      "execution_count": null,
      "outputs": [
        {
          "output_type": "stream",
          "text": [
            "0.8796484185563099\n",
            "69125.61280217623\n",
            "54570109921.942505\n"
          ],
          "name": "stdout"
        }
      ]
    },
    {
      "cell_type": "code",
      "metadata": {
        "id": "rvgvlajbykTc"
      },
      "source": [
        "#SALVANDO O MODELO PARA CONSTRUÇÃO DO APP\r\n",
        "\r\n",
        "import pickle \r\n",
        "with open('modelpredict.pkl', 'wb') as file:\r\n",
        "  pickle.dump(model, file)"
      ],
      "execution_count": null,
      "outputs": []
    }
  ]
}